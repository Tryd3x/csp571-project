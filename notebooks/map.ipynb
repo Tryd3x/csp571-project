{
 "cells": [
  {
   "cell_type": "code",
   "execution_count": null,
   "metadata": {},
   "outputs": [],
   "source": [
    "import geopandas as gpd\n",
    "import pandas as pd\n",
    "import plotly.graph_objects as go\n",
    "from utils.maps import ChicagoMap"
   ]
  },
  {
   "cell_type": "code",
   "execution_count": null,
   "metadata": {},
   "outputs": [],
   "source": [
    "# Load Chicago Map\n",
    "map = ChicagoMap()\n",
    "fig = map.plot_ward()"
   ]
  },
  {
   "cell_type": "code",
   "execution_count": null,
   "metadata": {},
   "outputs": [],
   "source": [
    "# Load Crime Data CSV as DataFrame\n",
    "crime_df = pd.read_csv('../datasets/chicago-crime-data.csv')\n",
    "crime_gdf = gpd.GeoDataFrame(\n",
    "    crime_df,\n",
    "    geometry=gpd.points_from_xy(crime_df.longitude, crime_df.latitude),\n",
    ")\n"
   ]
  },
  {
   "cell_type": "code",
   "execution_count": null,
   "metadata": {},
   "outputs": [],
   "source": [
    "# Add crime data as a scatter layer on top of the base map\n",
    "fig.add_trace(\n",
    "    go.Scattermapbox(\n",
    "        lon=crime_gdf.geometry.x,\n",
    "        lat=crime_gdf.geometry.y,\n",
    "        mode=\"markers\",\n",
    "        marker=go.scattermapbox.Marker(size=3, color=\"red\"),\n",
    "        text=crime_df[\"primary_type\"],  # Tooltip information (e.g., crime type)\n",
    "        name=\"Crime Locations\"\n",
    "    )\n",
    ");"
   ]
  },
  {
   "cell_type": "code",
   "execution_count": null,
   "metadata": {},
   "outputs": [],
   "source": [
    "# Customize layout for Map feel\n",
    "fig.update_layout(\n",
    "    mapbox=dict(\n",
    "        style=\"carto-positron\",\n",
    "        zoom=10,\n",
    "        center={\"lat\": 41.8781, \"lon\": -87.6298}\n",
    "    ),\n",
    "    margin={\"r\":0,\"t\":0,\"l\":0,\"b\":0}\n",
    ")\n",
    "\n",
    "\n",
    "# Show the map\n",
    "fig.show()"
   ]
  }
 ],
 "metadata": {
  "kernelspec": {
   "display_name": "Python 3",
   "language": "python",
   "name": "python3"
  },
  "language_info": {
   "codemirror_mode": {
    "name": "ipython",
    "version": 3
   },
   "file_extension": ".py",
   "mimetype": "text/x-python",
   "name": "python",
   "nbconvert_exporter": "python",
   "pygments_lexer": "ipython3",
   "version": "3.10.15"
  }
 },
 "nbformat": 4,
 "nbformat_minor": 2
}
