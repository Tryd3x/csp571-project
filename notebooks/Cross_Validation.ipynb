{
 "cells": [
  {
   "cell_type": "code",
   "execution_count": 1,
   "id": "e0bf3366-0fa3-43fb-919e-fe08b518992a",
   "metadata": {},
   "outputs": [],
   "source": [
    "# Data Loading and Exploring\n",
    "import pandas as pd\n",
    "import numpy as np\n",
    "from pathlib import Path\n",
    "import matplotlib.pyplot as plt\n",
    "\n",
    "# Data Preprocessing\n",
    "from sklearn.model_selection import train_test_split\n",
    "from sklearn.preprocessing import StandardScaler\n",
    "\n",
    "# Models\n",
    "from joblib import load\n",
    "from sklearn.model_selection import RepeatedStratifiedKFold, StratifiedKFold\n",
    "from sklearn.model_selection import cross_val_score\n",
    "from tensorflow.keras.models import load_model\n",
    "from scikeras.wrappers import KerasClassifier\n",
    "from sklearn.model_selection import RepeatedStratifiedKFold, cross_val_score\n",
    "from tensorflow.keras.models import Sequential\n",
    "from tensorflow.keras.layers import Dense\n",
    "\n",
    "# Performance Measurement Metrics\n",
    "from sklearn.metrics import precision_recall_curve\n",
    "from sklearn.metrics import auc\n",
    "\n",
    "# Custom Modules\n",
    "from utils.data_preprocessing import preprocess_crime_data\n",
    "from utils.data_loader import load_crime_dataset\n",
    "\n",
    "# Filter out Warnings\n",
    "import warnings\n",
    "warnings.filterwarnings(\"ignore\")"
   ]
  },
  {
   "cell_type": "code",
   "execution_count": 2,
   "id": "14af139b-2f3f-4258-a43b-26b990dabb82",
   "metadata": {},
   "outputs": [
    {
     "name": "stdout",
     "output_type": "stream",
     "text": [
      "File found: chicago-crime-data.csv\n"
     ]
    }
   ],
   "source": [
    "# Location of stored dataset\n",
    "dataset_path = Path('../datasets/chicago-crime-data.csv')\n",
    "\n",
    "if dataset_path.exists():\n",
    "    print(f\"File found: {dataset_path.name}\")\n",
    "else:\n",
    "    load_crime_dataset()"
   ]
  },
  {
   "cell_type": "code",
   "execution_count": 3,
   "id": "691bcd87-1c06-4f41-be45-8bfb62878925",
   "metadata": {},
   "outputs": [],
   "source": [
    "crime_df = pd.read_csv(dataset_path)\n",
    "crime_df['date'] = pd.to_datetime(crime_df['date'])\n",
    "\n",
    "crime_df.rename(columns={'community_area': 'community_number'}, inplace=True)"
   ]
  },
  {
   "cell_type": "code",
   "execution_count": 4,
   "id": "c05f0990-35b7-403d-9707-5c067cb2c906",
   "metadata": {},
   "outputs": [
    {
     "name": "stdout",
     "output_type": "stream",
     "text": [
      "Dataset Shape: (1410268, 22)\n",
      "Duplicated rows detected: 0\n",
      "Missing Values: 102274\n"
     ]
    }
   ],
   "source": [
    "X, Y = preprocess_crime_data(crime_df)"
   ]
  },
  {
   "cell_type": "code",
   "execution_count": 5,
   "id": "0e13040d-b5b6-4cec-afcc-fe6a28700773",
   "metadata": {},
   "outputs": [],
   "source": [
    "# Assuming you have your features in X and labels in y\n",
    "X_train, X_temp, y_train, y_temp = train_test_split(X, Y, test_size=0.3, random_state=42)\n",
    "X_val, X_test, y_val, y_test = train_test_split(X_temp, y_temp, test_size=0.5, random_state=42)"
   ]
  },
  {
   "cell_type": "markdown",
   "id": "6596326e-2776-4d56-ab22-14f50a52618e",
   "metadata": {},
   "source": [
    "#### Random Forest CV"
   ]
  },
  {
   "cell_type": "code",
   "execution_count": 6,
   "id": "52e0e90f-8c50-4d8d-bb02-c1a5893f9abb",
   "metadata": {},
   "outputs": [],
   "source": [
    "def rf_auc(model, X_test, y_test):\n",
    "    \"\"\"\n",
    "    Calculate precision, recall, and AUC for a given model and test dataset.\n",
    "\n",
    "    Parameters:\n",
    "        model: Trained model with a predict method.\n",
    "        X_test: Features of the test dataset.\n",
    "        y_test: Tr\n",
    "        ue labels of the test dataset.\n",
    "\n",
    "    Returns:\n",
    "        precision: Precision values.\n",
    "        recall: Recall values.\n",
    "        auc_score: Area under the Precision-Recall curve.\n",
    "    \"\"\"\n",
    "    # Get predictions\n",
    "    y_pred = model.predict(X_test)\n",
    "    \n",
    "    # Calculate precision, recall, and AUC\n",
    "    precision, recall, _ = precision_recall_curve(y_test, y_pred)\n",
    "    auc_score = auc(recall, precision)\n",
    "    \n",
    "    return precision, recall, auc_score"
   ]
  },
  {
   "cell_type": "code",
   "execution_count": 7,
   "id": "8803bb2b-c1d2-488c-99ce-a77bb85d17d4",
   "metadata": {},
   "outputs": [],
   "source": [
    "rf_path = Path('../model-reports/random_forest_model.pkl')\n",
    "rf_classifier = load(rf_path)"
   ]
  },
  {
   "cell_type": "code",
   "execution_count": 8,
   "id": "c2c24621-23f3-49e6-bd48-079ca0835d67",
   "metadata": {},
   "outputs": [
    {
     "name": "stdout",
     "output_type": "stream",
     "text": [
      "Accuracy_mean 0.8271491491491492\n"
     ]
    }
   ],
   "source": [
    "# creating RepeatedStratifiedKFold \n",
    "cross_validation = RepeatedStratifiedKFold(n_splits=10, n_repeats=3, random_state=10)\n",
    "\n",
    "# Slice the numpy arrays directly\n",
    "X_val = X_val[1:10000]\n",
    "y_val = y_val[1:10000]\n",
    "\n",
    "# Performing Cross-Validation\n",
    "k_scores = cross_val_score(rf_classifier, X_val, y_val, scoring='accuracy', cv=cross_validation)\n",
    "\n",
    "# Accuracy Score\n",
    "print('Accuracy_mean',np.mean(k_scores))"
   ]
  },
  {
   "cell_type": "code",
   "execution_count": 9,
   "id": "8865ca5c-4ee5-4496-96d0-fcd95a26db18",
   "metadata": {},
   "outputs": [
    {
     "name": "stdout",
     "output_type": "stream",
     "text": [
      "AUC: 0.5468806310407874\n"
     ]
    }
   ],
   "source": [
    "# Call the function\n",
    "precision_rf, recall_rf, area_rf = rf_auc(rf_classifier, X_test, y_test)\n",
    "\n",
    "# Print results\n",
    "print(\"AUC:\", area_rf)"
   ]
  },
  {
   "cell_type": "markdown",
   "id": "a9d75133-f01e-4681-876d-f8071b43ede5",
   "metadata": {},
   "source": [
    "### Neural Network CV"
   ]
  },
  {
   "cell_type": "code",
   "execution_count": 10,
   "id": "3b074ac1-7a2e-4b74-85bb-008c79cb3710",
   "metadata": {},
   "outputs": [],
   "source": [
    "def nn_auc(model, X_test, y_test):\n",
    "    \"\"\"\n",
    "    Calculate precision, recall, and AUC for a given neural network model and test dataset.\n",
    "\n",
    "    Parameters:\n",
    "        model: Trained model with a predict method.\n",
    "        X_test: Features of the test dataset.\n",
    "        y_test: True labels of the test dataset.\n",
    "\n",
    "    Returns:\n",
    "        precision: Precision values.\n",
    "        recall: Recall values.\n",
    "        auc_score: Area under the Precision-Recall curve.\n",
    "    \"\"\"\n",
    "    # Get predictions\n",
    "    y_pred = model.predict(X_test)\n",
    "    \n",
    "    # In case of multi-class classification, take the class with highest probability\n",
    "    y_pred_class = np.argmax(y_pred, axis=1)\n",
    "    \n",
    "    # Calculate precision, recall, and AUC\n",
    "    precision, recall, _ = precision_recall_curve(y_test, y_pred_class)\n",
    "    auc_score = auc(recall, precision)\n",
    "    \n",
    "    return precision, recall, auc_score"
   ]
  },
  {
   "cell_type": "code",
   "execution_count": 11,
   "id": "95730b23-dbb9-488e-9545-54a57ad74c59",
   "metadata": {},
   "outputs": [],
   "source": [
    "nn_path = Path('../model-reports/neural_network_model.keras')\n",
    "nn_classifier = load_model(nn_path)"
   ]
  },
  {
   "cell_type": "code",
   "execution_count": 12,
   "id": "26bc4001-a2e4-4b7a-b62e-cf86e8fd5be4",
   "metadata": {},
   "outputs": [
    {
     "name": "stdout",
     "output_type": "stream",
     "text": [
      "Accuracy_mean 0.896678978978979\n"
     ]
    }
   ],
   "source": [
    "# Define your neural network model\n",
    "def create_model():\n",
    "    model = Sequential()\n",
    "    # Add layers and compile the model as needed\n",
    "    # For example:\n",
    "    model.add(Dense(128, activation='relu', input_shape=(X_val.shape[1],)))\n",
    "    model.add(Dense(1, activation='sigmoid'))\n",
    "    model.compile(optimizer='adam', loss='binary_crossentropy', metrics=['accuracy'])\n",
    "    return model\n",
    "\n",
    "# Wrap your Keras model with KerasClassifier\n",
    "nn_classifier = KerasClassifier(model=nn_classifier, epochs=10, batch_size=32, verbose=0)\n",
    "\n",
    "# Set up cross-validation strategy\n",
    "cross_validation = RepeatedStratifiedKFold(n_splits=10, n_repeats=3, random_state=10)\n",
    "\n",
    "# Slice the numpy arrays directly\n",
    "X_val = X_val[1:10000]\n",
    "y_val = y_val[1:10000]\n",
    "\n",
    "# Perform cross-validation\n",
    "k_scores = cross_val_score(nn_classifier, X_val, y_val, scoring='accuracy', cv=cross_validation)\n",
    "\n",
    "# Output the results\n",
    "print('Accuracy_mean', np.mean(k_scores))"
   ]
  },
  {
   "cell_type": "code",
   "execution_count": 13,
   "id": "c532289f-1a33-4d19-822b-074d43c43728",
   "metadata": {},
   "outputs": [
    {
     "ename": "NotFittedError",
     "evalue": "Estimator needs to be fit before `predict` can be called",
     "output_type": "error",
     "traceback": [
      "\u001b[1;31m---------------------------------------------------------------------------\u001b[0m",
      "\u001b[1;31mNotFittedError\u001b[0m                            Traceback (most recent call last)",
      "\u001b[1;32md:\\Codehub\\csp571-project\\notebooks\\cross_validation.ipynb Cell 15\u001b[0m line \u001b[0;36m2\n\u001b[0;32m      <a href='vscode-notebook-cell:/d%3A/Codehub/csp571-project/notebooks/cross_validation.ipynb#X20sZmlsZQ%3D%3D?line=0'>1</a>\u001b[0m \u001b[39m# Call the function\u001b[39;00m\n\u001b[1;32m----> <a href='vscode-notebook-cell:/d%3A/Codehub/csp571-project/notebooks/cross_validation.ipynb#X20sZmlsZQ%3D%3D?line=1'>2</a>\u001b[0m precision_nn, recall_nn, area_nn \u001b[39m=\u001b[39m nn_auc(nn_classifier, X_test, y_test)\n\u001b[0;32m      <a href='vscode-notebook-cell:/d%3A/Codehub/csp571-project/notebooks/cross_validation.ipynb#X20sZmlsZQ%3D%3D?line=3'>4</a>\u001b[0m \u001b[39m# Print results\u001b[39;00m\n\u001b[0;32m      <a href='vscode-notebook-cell:/d%3A/Codehub/csp571-project/notebooks/cross_validation.ipynb#X20sZmlsZQ%3D%3D?line=4'>5</a>\u001b[0m \u001b[39mprint\u001b[39m(\u001b[39m\"\u001b[39m\u001b[39mAUC:\u001b[39m\u001b[39m\"\u001b[39m, area_nn)\n",
      "\u001b[1;32md:\\Codehub\\csp571-project\\notebooks\\cross_validation.ipynb Cell 15\u001b[0m line \u001b[0;36m1\n\u001b[0;32m      <a href='vscode-notebook-cell:/d%3A/Codehub/csp571-project/notebooks/cross_validation.ipynb#X20sZmlsZQ%3D%3D?line=1'>2</a>\u001b[0m \u001b[39m\u001b[39m\u001b[39m\"\"\"\u001b[39;00m\n\u001b[0;32m      <a href='vscode-notebook-cell:/d%3A/Codehub/csp571-project/notebooks/cross_validation.ipynb#X20sZmlsZQ%3D%3D?line=2'>3</a>\u001b[0m \u001b[39mCalculate precision, recall, and AUC for a given neural network model and test dataset.\u001b[39;00m\n\u001b[0;32m      <a href='vscode-notebook-cell:/d%3A/Codehub/csp571-project/notebooks/cross_validation.ipynb#X20sZmlsZQ%3D%3D?line=3'>4</a>\u001b[0m \n\u001b[1;32m   (...)\u001b[0m\n\u001b[0;32m     <a href='vscode-notebook-cell:/d%3A/Codehub/csp571-project/notebooks/cross_validation.ipynb#X20sZmlsZQ%3D%3D?line=12'>13</a>\u001b[0m \u001b[39m    auc_score: Area under the Precision-Recall curve.\u001b[39;00m\n\u001b[0;32m     <a href='vscode-notebook-cell:/d%3A/Codehub/csp571-project/notebooks/cross_validation.ipynb#X20sZmlsZQ%3D%3D?line=13'>14</a>\u001b[0m \u001b[39m\"\"\"\u001b[39;00m\n\u001b[0;32m     <a href='vscode-notebook-cell:/d%3A/Codehub/csp571-project/notebooks/cross_validation.ipynb#X20sZmlsZQ%3D%3D?line=14'>15</a>\u001b[0m \u001b[39m# Get predictions\u001b[39;00m\n\u001b[1;32m---> <a href='vscode-notebook-cell:/d%3A/Codehub/csp571-project/notebooks/cross_validation.ipynb#X20sZmlsZQ%3D%3D?line=15'>16</a>\u001b[0m y_pred \u001b[39m=\u001b[39m model\u001b[39m.\u001b[39;49mpredict(X_test)\n\u001b[0;32m     <a href='vscode-notebook-cell:/d%3A/Codehub/csp571-project/notebooks/cross_validation.ipynb#X20sZmlsZQ%3D%3D?line=17'>18</a>\u001b[0m \u001b[39m# In case of multi-class classification, take the class with highest probability\u001b[39;00m\n\u001b[0;32m     <a href='vscode-notebook-cell:/d%3A/Codehub/csp571-project/notebooks/cross_validation.ipynb#X20sZmlsZQ%3D%3D?line=18'>19</a>\u001b[0m y_pred_class \u001b[39m=\u001b[39m np\u001b[39m.\u001b[39margmax(y_pred, axis\u001b[39m=\u001b[39m\u001b[39m1\u001b[39m)\n",
      "File \u001b[1;32md:\\Codehub\\csp571-project\\env\\lib\\site-packages\\scikeras\\wrappers.py:1058\u001b[0m, in \u001b[0;36mBaseWrapper.predict\u001b[1;34m(self, X, **kwargs)\u001b[0m\n\u001b[0;32m   1034\u001b[0m \u001b[39m\u001b[39m\u001b[39m\"\"\"Returns predictions for the given test data.\u001b[39;00m\n\u001b[0;32m   1035\u001b[0m \n\u001b[0;32m   1036\u001b[0m \u001b[39mParameters\u001b[39;00m\n\u001b[1;32m   (...)\u001b[0m\n\u001b[0;32m   1055\u001b[0m \u001b[39m    Predictions, of shape shape (n_samples,) or (n_samples, n_outputs).\u001b[39;00m\n\u001b[0;32m   1056\u001b[0m \u001b[39m\"\"\"\u001b[39;00m\n\u001b[0;32m   1057\u001b[0m \u001b[39m# predict with Keras model\u001b[39;00m\n\u001b[1;32m-> 1058\u001b[0m y_pred \u001b[39m=\u001b[39m \u001b[39mself\u001b[39m\u001b[39m.\u001b[39m_predict_raw(X\u001b[39m=\u001b[39mX, \u001b[39m*\u001b[39m\u001b[39m*\u001b[39mkwargs)\n\u001b[0;32m   1060\u001b[0m \u001b[39m# post process y\u001b[39;00m\n\u001b[0;32m   1061\u001b[0m y_pred \u001b[39m=\u001b[39m \u001b[39mself\u001b[39m\u001b[39m.\u001b[39mtarget_encoder_\u001b[39m.\u001b[39minverse_transform(y_pred)\n",
      "File \u001b[1;32md:\\Codehub\\csp571-project\\env\\lib\\site-packages\\scikeras\\wrappers.py:1000\u001b[0m, in \u001b[0;36mBaseWrapper._predict_raw\u001b[1;34m(self, X, **kwargs)\u001b[0m\n\u001b[0;32m    998\u001b[0m \u001b[39m# check if fitted\u001b[39;00m\n\u001b[0;32m    999\u001b[0m \u001b[39mif\u001b[39;00m \u001b[39mnot\u001b[39;00m \u001b[39mself\u001b[39m\u001b[39m.\u001b[39minitialized_:\n\u001b[1;32m-> 1000\u001b[0m     \u001b[39mraise\u001b[39;00m NotFittedError(\n\u001b[0;32m   1001\u001b[0m         \u001b[39m\"\u001b[39m\u001b[39mEstimator needs to be fit before `predict` \u001b[39m\u001b[39m\"\u001b[39m \u001b[39m\"\u001b[39m\u001b[39mcan be called\u001b[39m\u001b[39m\"\u001b[39m\n\u001b[0;32m   1002\u001b[0m     )\n\u001b[0;32m   1003\u001b[0m \u001b[39m# basic input checks\u001b[39;00m\n\u001b[0;32m   1004\u001b[0m X, _ \u001b[39m=\u001b[39m \u001b[39mself\u001b[39m\u001b[39m.\u001b[39m_validate_data(X\u001b[39m=\u001b[39mX, y\u001b[39m=\u001b[39m\u001b[39mNone\u001b[39;00m)\n",
      "\u001b[1;31mNotFittedError\u001b[0m: Estimator needs to be fit before `predict` can be called"
     ]
    }
   ],
   "source": [
    "# Call the function\n",
    "precision_nn, recall_nn, area_nn = nn_auc(nn_classifier, X_test, y_test)\n",
    "\n",
    "# Print results\n",
    "print(\"AUC:\", area_nn)"
   ]
  },
  {
   "cell_type": "markdown",
   "id": "17b38244-ba62-4863-b77c-071de27852e2",
   "metadata": {},
   "source": [
    "### AUPRC"
   ]
  },
  {
   "cell_type": "code",
   "execution_count": null,
   "id": "4bddc5ef-06d3-4080-baa5-3638147303bc",
   "metadata": {},
   "outputs": [],
   "source": [
    "plt.plot(recall_rf, precision_rf, linestyle=\"--\", color='b', label='Random Forest - AUPRC - ' + str(area_rf.round(2)))\n",
    "plt.plot(recall_nn, precision_nn, linestyle=\"--\", color='r', label='Neural Network - AUPRC - ' + str(area_nn.round(2)))\n",
    "\n",
    "plt.xlabel('Recall')\n",
    "plt.ylabel('Precision')\n",
    "plt.grid(True)\n",
    "plt.legend()\n",
    "plt.show()"
   ]
  },
  {
   "cell_type": "code",
   "execution_count": null,
   "id": "0d07bf2a-3734-4b30-b71c-5f65f6f595ac",
   "metadata": {},
   "outputs": [],
   "source": []
  }
 ],
 "metadata": {
  "kernelspec": {
   "display_name": "Python 3 (ipykernel)",
   "language": "python",
   "name": "python3"
  },
  "language_info": {
   "codemirror_mode": {
    "name": "ipython",
    "version": 3
   },
   "file_extension": ".py",
   "mimetype": "text/x-python",
   "name": "python",
   "nbconvert_exporter": "python",
   "pygments_lexer": "ipython3",
   "version": "3.10.15"
  }
 },
 "nbformat": 4,
 "nbformat_minor": 5
}
