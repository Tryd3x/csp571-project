{
 "cells": [
  {
   "cell_type": "code",
   "execution_count": 1,
   "id": "e0bf3366-0fa3-43fb-919e-fe08b518992a",
   "metadata": {},
   "outputs": [],
   "source": [
    "# Data Loading and Exploring\n",
    "import pandas as pd\n",
    "import numpy as np\n",
    "from pathlib import Path\n",
    "\n",
    "# Data Preprocessing\n",
    "from sklearn.model_selection import train_test_split\n",
    "from sklearn.preprocessing import StandardScaler\n",
    "\n",
    "# Models\n",
    "from joblib import load\n",
    "from sklearn.model_selection import RepeatedStratifiedKFold, StratifiedKFold\n",
    "from sklearn.model_selection import cross_val_score\n",
    "from tensorflow.keras.models import load_model\n",
    "from scikeras.wrappers import KerasClassifier\n",
    "from sklearn.model_selection import RepeatedStratifiedKFold, cross_val_score\n",
    "from tensorflow.keras.models import Sequential\n",
    "from tensorflow.keras.layers import Dense\n",
    "\n",
    "# Performance Measurement Metrics\n",
    "from sklearn.metrics import precision_recall_curve\n",
    "from sklearn.metrics import auc\n",
    "\n",
    "# Custom Modules\n",
    "from utils.data_preprocessing import preprocess_crime_data\n",
    "\n",
    "# Filter out Warnings\n",
    "import warnings\n",
    "warnings.filterwarnings(\"ignore\")"
   ]
  },
  {
   "cell_type": "code",
   "execution_count": 2,
   "id": "14af139b-2f3f-4258-a43b-26b990dabb82",
   "metadata": {},
   "outputs": [
    {
     "name": "stdout",
     "output_type": "stream",
     "text": [
      "File found: chicago-crime-data.csv\n"
     ]
    }
   ],
   "source": [
    "# Location of stored dataset\n",
    "dataset_path = Path('../datasets/chicago-crime-data.csv')\n",
    "\n",
    "if dataset_path.exists():\n",
    "    print(f\"File found: {dataset_path.name}\")\n",
    "else:\n",
    "    load_crime_dataset()"
   ]
  },
  {
   "cell_type": "code",
   "execution_count": 3,
   "id": "691bcd87-1c06-4f41-be45-8bfb62878925",
   "metadata": {},
   "outputs": [],
   "source": [
    "crime_df = pd.read_csv(dataset_path)\n",
    "crime_df['date'] = pd.to_datetime(crime_df['date'])"
   ]
  },
  {
   "cell_type": "code",
   "execution_count": 4,
   "id": "c05f0990-35b7-403d-9707-5c067cb2c906",
   "metadata": {},
   "outputs": [
    {
     "name": "stdout",
     "output_type": "stream",
     "text": [
      "Dataset Shape: (1408934, 22)\n",
      "Duplicated rows detected: 0\n",
      "Missing Values: 102057\n"
     ]
    }
   ],
   "source": [
    "X, Y = preprocess_crime_data(crime_df)"
   ]
  },
  {
   "cell_type": "code",
   "execution_count": 5,
   "id": "0e13040d-b5b6-4cec-afcc-fe6a28700773",
   "metadata": {},
   "outputs": [],
   "source": [
    "# Assuming you have your features in X and labels in y\n",
    "X_train, X_temp, y_train, y_temp = train_test_split(X, Y, test_size=0.3, random_state=42)\n",
    "X_val, X_test, y_val, y_test = train_test_split(X_temp, y_temp, test_size=0.5, random_state=42)"
   ]
  },
  {
   "cell_type": "markdown",
   "id": "6596326e-2776-4d56-ab22-14f50a52618e",
   "metadata": {},
   "source": [
    "#### Random Forest CV"
   ]
  },
  {
   "cell_type": "code",
   "execution_count": 6,
   "id": "8803bb2b-c1d2-488c-99ce-a77bb85d17d4",
   "metadata": {},
   "outputs": [],
   "source": [
    "rf_path = Path('../model-reports/random_forest_model.pkl')\n",
    "rf_classifier = load(rf_path)"
   ]
  },
  {
   "cell_type": "code",
   "execution_count": 7,
   "id": "c2c24621-23f3-49e6-bd48-079ca0835d67",
   "metadata": {},
   "outputs": [
    {
     "name": "stdout",
     "output_type": "stream",
     "text": [
      "Accuracy_mean 0.8541186853520185\n"
     ]
    }
   ],
   "source": [
    "# creating RepeatedStratifiedKFold \n",
    "cross_validation = RepeatedStratifiedKFold(n_splits=10, n_repeats=3, random_state=10)\n",
    "\n",
    "# Slice the numpy arrays directly\n",
    "X_val = X_val[1:10000]\n",
    "y_val = y_val[1:10000]\n",
    "\n",
    "# Performing Cross-Validation\n",
    "k_scores = cross_val_score(rf_classifier, X_val, y_val, scoring='accuracy', cv=cross_validation)\n",
    "\n",
    "# Accuracy Score\n",
    "print('Accuracy_mean',np.mean(k_scores))"
   ]
  },
  {
   "cell_type": "markdown",
   "id": "a9d75133-f01e-4681-876d-f8071b43ede5",
   "metadata": {},
   "source": [
    "### Neural Network CV"
   ]
  },
  {
   "cell_type": "code",
   "execution_count": 8,
   "id": "95730b23-dbb9-488e-9545-54a57ad74c59",
   "metadata": {},
   "outputs": [],
   "source": [
    "nn_path = Path('../model-reports/neural_network_model.keras')\n",
    "nn_classifier = load_model(nn_path)"
   ]
  },
  {
   "cell_type": "code",
   "execution_count": 9,
   "id": "26bc4001-a2e4-4b7a-b62e-cf86e8fd5be4",
   "metadata": {},
   "outputs": [
    {
     "name": "stdout",
     "output_type": "stream",
     "text": [
      "Accuracy_mean 0.8971127558845103\n"
     ]
    }
   ],
   "source": [
    "# Define your neural network model\n",
    "def create_model():\n",
    "    model = Sequential()\n",
    "    # Add layers and compile the model as needed\n",
    "    # For example:\n",
    "    model.add(Dense(128, activation='relu', input_shape=(X_val.shape[1],)))\n",
    "    model.add(Dense(1, activation='sigmoid'))\n",
    "    model.compile(optimizer='adam', loss='binary_crossentropy', metrics=['accuracy'])\n",
    "    return model\n",
    "\n",
    "# Wrap your Keras model with KerasClassifier\n",
    "nn_classifier = KerasClassifier(model=create_model, epochs=10, batch_size=32, verbose=0)\n",
    "\n",
    "# Set up cross-validation strategy\n",
    "cross_validation = RepeatedStratifiedKFold(n_splits=2, n_repeats=3, random_state=10)\n",
    "\n",
    "# Slice the numpy arrays directly\n",
    "X_val = X_val[1:10000]\n",
    "y_val = y_val[1:10000]\n",
    "\n",
    "# Perform cross-validation\n",
    "k_scores = cross_val_score(nn_classifier, X_val, y_val, scoring='accuracy', cv=cross_validation)\n",
    "\n",
    "# Output the results\n",
    "print('Accuracy_mean', np.mean(k_scores))"
   ]
  }
 ],
 "metadata": {
  "kernelspec": {
   "display_name": "Python 3 (ipykernel)",
   "language": "python",
   "name": "python3"
  },
  "language_info": {
   "codemirror_mode": {
    "name": "ipython",
    "version": 3
   },
   "file_extension": ".py",
   "mimetype": "text/x-python",
   "name": "python",
   "nbconvert_exporter": "python",
   "pygments_lexer": "ipython3",
   "version": "3.12.4"
  }
 },
 "nbformat": 4,
 "nbformat_minor": 5
}
