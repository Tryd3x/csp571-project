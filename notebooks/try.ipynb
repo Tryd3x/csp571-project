{
 "cells": [
  {
   "cell_type": "code",
   "execution_count": 1,
   "id": "31713284-09ce-4f22-8e9c-866cc2890840",
   "metadata": {},
   "outputs": [],
   "source": [
    "# Data Loading and Exploring\n",
    "import pandas as pd\n",
    "import numpy as np\n",
    "from pathlib import Path\n",
    "from sodapy import Socrata\n",
    "\n",
    "# Visualization\n",
    "import matplotlib.pyplot as plt\n",
    "import seaborn as sns\n",
    "import geopandas as gpd\n",
    "import plotly.express as px\n",
    "\n",
    "# Data Preprocessing\n",
    "from sklearn.decomposition import PCA\n",
    "from sklearn.preprocessing import LabelEncoder, StandardScaler\n",
    "from sklearn.model_selection import train_test_split\n",
    "\n",
    "# Models\n",
    "from sklearn.ensemble import RandomForestClassifier\n",
    "from sklearn.svm import SVC\n",
    "import xgboost as xgb\n",
    "from imblearn.over_sampling import SMOTE\n",
    "from imblearn.pipeline import Pipeline as imPipeline\n",
    "from sklearn.model_selection import GridSearchCV\n",
    "import joblib\n",
    "import tensorflow as tf\n",
    "\n",
    "\n",
    "# Performance Measurement Metrics\n",
    "from sklearn.metrics import (\n",
    "    accuracy_score,\n",
    "    classification_report,\n",
    "    confusion_matrix\n",
    ")\n",
    "\n",
    "# Custom Modules\n",
    "from utils.data_loader import load_crime_dataset\n",
    "from utils.maps import ChicagoMap\n",
    "\n",
    "# Filter out Warnings\n",
    "import warnings\n",
    "warnings.filterwarnings(\"ignore\")\n",
    "\n",
    "# Visualization Configuration\n",
    "sns.set_theme(style=\"ticks\", color_codes=True)\n"
   ]
  },
  {
   "cell_type": "code",
   "execution_count": 2,
   "id": "4e0a6249-3d0d-451d-b3c2-93ff18ad9739",
   "metadata": {},
   "outputs": [
    {
     "name": "stdout",
     "output_type": "stream",
     "text": [
      "File found: chicago-crime-data.csv\n"
     ]
    }
   ],
   "source": [
    "# Location of stored dataset\n",
    "dataset_path = Path('../datasets/chicago-crime-data.csv')\n",
    "\n",
    "if dataset_path.exists():\n",
    "    print(f\"File found: {dataset_path.name}\")\n",
    "else:\n",
    "    load_crime_dataset()"
   ]
  },
  {
   "cell_type": "code",
   "execution_count": 3,
   "id": "7c229cd0-5252-43bb-93a0-2b9c103383f4",
   "metadata": {},
   "outputs": [],
   "source": [
    "crime_df = pd.read_csv(dataset_path)\n",
    "crime_df['date'] = pd.to_datetime(crime_df['date'])"
   ]
  },
  {
   "cell_type": "markdown",
   "id": "cc559c9a-bb3b-4996-ad16-11a6e0fc2504",
   "metadata": {},
   "source": [
    "##### Data Preprocessing"
   ]
  },
  {
   "cell_type": "code",
   "execution_count": 4,
   "id": "864d25d4-3f98-4a52-be27-b0c399eed7e7",
   "metadata": {},
   "outputs": [],
   "source": [
    "def preprocess_crime_data(crime_df):\n",
    "    # Step 1: Drop redundant columns\n",
    "    crime_df.drop(columns=crime_df.columns[22:], axis=1, inplace=True)\n",
    "    print(\"Dataset Shape:\",crime_df.shape)\n",
    "    \n",
    "    # Step 2: Detect and drop duplicates\n",
    "    print(f\"Duplicated rows detected: {sum(crime_df.duplicated())}\")\n",
    "    crime_df.drop_duplicates(inplace=True)\n",
    "    \n",
    "    # Step 3: Check and handle missing values\n",
    "    print(f\"Missing Values: {sum(crime_df.isna().sum())}\")\n",
    "    crime_df.dropna(inplace=True)\n",
    "    \n",
    "    # Step 4: Compute arrest rate and create encoding_dict\n",
    "    encoding_dict = {\n",
    "        primary_type: idx\n",
    "        for idx, (primary_type, _) in enumerate(\n",
    "            crime_df.groupby('primary_type')\n",
    "            .apply(lambda g: ((g['arrest'].sum() / len(g)) * 100).round(2))\n",
    "            .sort_values()\n",
    "            .items()\n",
    "        )\n",
    "    }\n",
    "    \n",
    "    # Step 5: Encode 'primary_type' and update 'arrest' column\n",
    "    crime_df['primary_type_encoded'] = crime_df['primary_type'].map(encoding_dict).fillna(-1).astype(int)\n",
    "    crime_df['arrest'] = crime_df['arrest'].astype(int)\n",
    "    \n",
    "    # Step 6: Feature selection\n",
    "    features = ['domestic', 'district', 'beat', 'community_area', 'ward',\n",
    "                'x_coordinate', 'y_coordinate', 'latitude', 'longitude',\n",
    "                'year', 'primary_type_encoded']\n",
    "    target = 'arrest'\n",
    "    \n",
    "    X = crime_df[features]\n",
    "    Y = crime_df[target]\n",
    "    \n",
    "    # Step 7: Scale features\n",
    "    scaler = StandardScaler()\n",
    "    X = scaler.fit_transform(X)\n",
    "    \n",
    "    return X, Y"
   ]
  },
  {
   "cell_type": "markdown",
   "id": "50ca28c1-7ed4-4b33-b0a5-3681d79e3861",
   "metadata": {},
   "source": [
    "##### Model Training and Tuning"
   ]
  },
  {
   "cell_type": "code",
   "execution_count": 11,
   "id": "f2070da5-cb54-42f3-a748-bde9db26f985",
   "metadata": {},
   "outputs": [],
   "source": [
    "def train_and_evaluate_neural_network():\n",
    "    # Separate the classes\n",
    "    arrest_true = crime_df[crime_df['arrest'] == True]\n",
    "    arrest_false = crime_df[crime_df['arrest'] == False]\n",
    "\n",
    "    # Sample rows from each class\n",
    "    arrest_true_sample = arrest_true.sample(n=200000, random_state=42)\n",
    "    arrest_false_sample = arrest_false.sample(n=500000, random_state=42)\n",
    "\n",
    "    # Combine the samples into one DataFrame\n",
    "    balanced_df = pd.concat([arrest_true_sample, arrest_false_sample])\n",
    "\n",
    "    # Shuffle the resulting DataFrame\n",
    "    balanced_df = balanced_df.sample(frac=1, random_state=42).reset_index(drop=True)\n",
    "\n",
    "    X, Y = preprocess_crime_data(balanced_df)\n",
    "\n",
    "    # Step 1: Split the data into training and testing sets\n",
    "    print(\"Splitting data into training and testing sets...\")\n",
    "    X_train, X_test, y_train, y_test = train_test_split(X, Y, test_size=0.3, random_state=42, stratify=Y)\n",
    "    print(\"Data split complete. Training set size:\", X_train.shape, \"Test set size:\", X_test.shape)\n",
    "\n",
    "    # Step 9: Print counts of True (1) and False (0) in train and test sets\n",
    "    print(\"Training set:\")\n",
    "    print(f\"True (1): {sum(y_train == 1)}, False (0): {sum(y_train == 0)}\")\n",
    "    \n",
    "    print(\"Test set:\")\n",
    "    print(f\"True (1): {sum(y_test == 1)}, False (0): {sum(y_test == 0)}\")\n"
   ]
  },
  {
   "cell_type": "code",
   "execution_count": 12,
   "id": "5eb0fdf9-855a-4177-9d7f-caae6e19a5a4",
   "metadata": {},
   "outputs": [],
   "source": [
    "def train_and_evaluate_random_forest(df):\n",
    "    X, Y = preprocess_crime_data(df)\n",
    "    \n",
    "    # Step 1: Split the data into training and testing sets\n",
    "    print(\"Splitting data into training and testing sets...\")\n",
    "    X_train, X_test, y_train, y_test = train_test_split(X, Y, test_size=0.3, random_state=42, stratify=Y)\n",
    "    print(\"Data split complete. Training set size:\", X_train.shape, \"Test set size:\", X_test.shape)\n",
    "\n",
    "    # Step 9: Print counts of True (1) and False (0) in train and test sets\n",
    "    print(\"Training set:\")\n",
    "    print(f\"True (1): {sum(y_train == 1)}, False (0): {sum(y_train == 0)}\")\n",
    "    \n",
    "    print(\"Test set:\")\n",
    "    print(f\"True (1): {sum(y_test == 1)}, False (0): {sum(y_test == 0)}\")"
   ]
  },
  {
   "cell_type": "markdown",
   "id": "c0304f20-367f-4993-a4f2-0baa7e8141b7",
   "metadata": {},
   "source": [
    "##### Report"
   ]
  },
  {
   "cell_type": "code",
   "execution_count": 13,
   "id": "0c9d81be-9620-43ae-9bf1-b7225011267a",
   "metadata": {},
   "outputs": [
    {
     "name": "stdout",
     "output_type": "stream",
     "text": [
      "Dataset Shape: (700000, 22)\n",
      "Duplicated rows detected: 0\n",
      "Missing Values: 50977\n",
      "Splitting data into training and testing sets...\n",
      "Data split complete. Training set size: (481606, 11) Test set size: (206403, 11)\n",
      "Training set:\n",
      "True (1): 137957, False (0): 343649\n",
      "Test set:\n",
      "True (1): 59124, False (0): 147279\n"
     ]
    }
   ],
   "source": [
    "train_and_evaluate_neural_network()"
   ]
  },
  {
   "cell_type": "code",
   "execution_count": 14,
   "id": "c1fd5fff-6d1e-4ddb-be45-df4f07730ade",
   "metadata": {},
   "outputs": [
    {
     "name": "stdout",
     "output_type": "stream",
     "text": [
      "Dataset Shape: (1408934, 22)\n",
      "Duplicated rows detected: 0\n",
      "Missing Values: 102057\n",
      "Splitting data into training and testing sets...\n",
      "Data split complete. Training set size: (969004, 11) Test set size: (415288, 11)\n",
      "Training set:\n",
      "True (1): 142313, False (0): 826691\n",
      "Test set:\n",
      "True (1): 60991, False (0): 354297\n"
     ]
    }
   ],
   "source": [
    "train_and_evaluate_random_forest(crime_df)"
   ]
  },
  {
   "cell_type": "code",
   "execution_count": null,
   "id": "fb43c0e2-3e0b-4f3d-9fc4-cdd48cd01996",
   "metadata": {},
   "outputs": [],
   "source": []
  }
 ],
 "metadata": {
  "kernelspec": {
   "display_name": "Python 3 (ipykernel)",
   "language": "python",
   "name": "python3"
  },
  "language_info": {
   "codemirror_mode": {
    "name": "ipython",
    "version": 3
   },
   "file_extension": ".py",
   "mimetype": "text/x-python",
   "name": "python",
   "nbconvert_exporter": "python",
   "pygments_lexer": "ipython3",
   "version": "3.12.4"
  }
 },
 "nbformat": 4,
 "nbformat_minor": 5
}
