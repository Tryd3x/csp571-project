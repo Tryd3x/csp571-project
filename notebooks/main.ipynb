{
 "cells": [
  {
   "cell_type": "code",
   "execution_count": 6,
   "metadata": {},
   "outputs": [],
   "source": [
    "import pandas as pd\n",
    "import numpy as np\n",
    "\n",
    "\n",
    "\n",
    "import os\n",
    "import sqlite3\n",
    "import kagglehub\n",
    "import warnings\n",
    "\n",
    "warnings.filterwarnings('ignore')   "
   ]
  },
  {
   "cell_type": "code",
   "execution_count": 16,
   "metadata": {},
   "outputs": [
    {
     "name": "stdout",
     "output_type": "stream",
     "text": [
      "C:\\Users\\hyder\\.cache\\kagglehub\\datasets\\rtatman\\188-million-us-wildfires\\versions\\2\\FPA_FOD_20170508.sqlite\n"
     ]
    }
   ],
   "source": [
    "# Download dataset from kaggle\n",
    "path = kagglehub.dataset_download(\"rtatman/188-million-us-wildfires\")\n",
    "path = os.path.join(path,os.listdir(path)[0])\n",
    "print(path)"
   ]
  },
  {
   "cell_type": "code",
   "execution_count": 17,
   "metadata": {},
   "outputs": [
    {
     "data": {
      "text/plain": [
       "sqlite3.Connection"
      ]
     },
     "execution_count": 17,
     "metadata": {},
     "output_type": "execute_result"
    }
   ],
   "source": [
    "conn = sqlite3.connect(path)\n",
    "type(conn)"
   ]
  },
  {
   "cell_type": "code",
   "execution_count": 26,
   "metadata": {},
   "outputs": [
    {
     "name": "stdout",
     "output_type": "stream",
     "text": [
      "Tables in the SQLite database:\n",
      "spatial_ref_sys\n",
      "spatialite_history\n",
      "sqlite_sequence\n",
      "geometry_columns\n",
      "spatial_ref_sys_aux\n",
      "views_geometry_columns\n",
      "virts_geometry_columns\n",
      "geometry_columns_statistics\n",
      "views_geometry_columns_statistics\n",
      "virts_geometry_columns_statistics\n",
      "geometry_columns_field_infos\n",
      "views_geometry_columns_field_infos\n",
      "virts_geometry_columns_field_infos\n",
      "geometry_columns_time\n",
      "geometry_columns_auth\n",
      "views_geometry_columns_auth\n",
      "virts_geometry_columns_auth\n",
      "sql_statements_log\n",
      "SpatialIndex\n",
      "ElementaryGeometries\n",
      "KNN\n",
      "Fires\n",
      "idx_Fires_Shape\n",
      "idx_Fires_Shape_node\n",
      "idx_Fires_Shape_rowid\n",
      "idx_Fires_Shape_parent\n",
      "NWCG_UnitIDActive_20170109\n"
     ]
    }
   ],
   "source": [
    "# Step 2: Query sqlite_master to get all table names\n",
    "cursor = conn.cursor()\n",
    "cursor.execute(\"SELECT name FROM sqlite_master WHERE type='table';\")\n",
    "\n",
    "# Step 3: Fetch all table names\n",
    "tables = cursor.fetchall()\n",
    "\n",
    "# Step 4: Print the table names\n",
    "print(\"Tables in the SQLite database:\")\n",
    "for table in tables:\n",
    "    print(table[0])"
   ]
  },
  {
   "cell_type": "code",
   "execution_count": 27,
   "metadata": {},
   "outputs": [],
   "source": [
    "# Querying data from sql database\n",
    "df = pd.read_sql_query(\n",
    "    \"SELECT * FROM Fires\",\n",
    "    conn\n",
    "    )"
   ]
  },
  {
   "cell_type": "code",
   "execution_count": null,
   "metadata": {},
   "outputs": [],
   "source": []
  }
 ],
 "metadata": {
  "kernelspec": {
   "display_name": "Python 3",
   "language": "python",
   "name": "python3"
  },
  "language_info": {
   "codemirror_mode": {
    "name": "ipython",
    "version": 3
   },
   "file_extension": ".py",
   "mimetype": "text/x-python",
   "name": "python",
   "nbconvert_exporter": "python",
   "pygments_lexer": "ipython3",
   "version": "3.10.15"
  }
 },
 "nbformat": 4,
 "nbformat_minor": 2
}
