{
 "cells": [
  {
   "cell_type": "code",
   "execution_count": 3,
   "metadata": {},
   "outputs": [],
   "source": [
    "import warnings\n",
    "warnings.filterwarnings('ignore')\n",
    "\n",
    "from pathlib import Path\n",
    "from utils.data_loader import load_crime_dataset\n",
    "\n",
    "import pandas as pd"
   ]
  },
  {
   "cell_type": "code",
   "execution_count": 4,
   "metadata": {},
   "outputs": [
    {
     "name": "stdout",
     "output_type": "stream",
     "text": [
      "File found: chicago-crime-data.csv\n"
     ]
    }
   ],
   "source": [
    "# Location of stored dataset\n",
    "dataset_path = Path('../datasets/chicago-crime-data.csv')\n",
    "\n",
    "if dataset_path.exists():\n",
    "    print(f\"File found: {dataset_path.name}\")\n",
    "else:\n",
    "    load_crime_dataset()"
   ]
  },
  {
   "cell_type": "code",
   "execution_count": 5,
   "metadata": {},
   "outputs": [
    {
     "data": {
      "text/html": [
       "<div>\n",
       "<style scoped>\n",
       "    .dataframe tbody tr th:only-of-type {\n",
       "        vertical-align: middle;\n",
       "    }\n",
       "\n",
       "    .dataframe tbody tr th {\n",
       "        vertical-align: top;\n",
       "    }\n",
       "\n",
       "    .dataframe thead th {\n",
       "        text-align: right;\n",
       "    }\n",
       "</style>\n",
       "<table border=\"1\" class=\"dataframe\">\n",
       "  <thead>\n",
       "    <tr style=\"text-align: right;\">\n",
       "      <th></th>\n",
       "      <th>id</th>\n",
       "      <th>case_number</th>\n",
       "      <th>date</th>\n",
       "      <th>block</th>\n",
       "      <th>iucr</th>\n",
       "      <th>primary_type</th>\n",
       "      <th>description</th>\n",
       "      <th>location_description</th>\n",
       "      <th>arrest</th>\n",
       "      <th>domestic</th>\n",
       "      <th>...</th>\n",
       "      <th>community_area</th>\n",
       "      <th>fbi_code</th>\n",
       "      <th>x_coordinate</th>\n",
       "      <th>y_coordinate</th>\n",
       "      <th>year</th>\n",
       "      <th>updated_on</th>\n",
       "      <th>latitude</th>\n",
       "      <th>longitude</th>\n",
       "      <th>location</th>\n",
       "      <th>:@computed_region_awaf_s7ux</th>\n",
       "    </tr>\n",
       "  </thead>\n",
       "  <tbody>\n",
       "    <tr>\n",
       "      <th>0</th>\n",
       "      <td>13639616</td>\n",
       "      <td>JH479028</td>\n",
       "      <td>2024-10-23T00:00:00.000</td>\n",
       "      <td>051XX S WOODLAWN AVE</td>\n",
       "      <td>1365</td>\n",
       "      <td>CRIMINAL TRESPASS</td>\n",
       "      <td>TO RESIDENCE</td>\n",
       "      <td>APARTMENT</td>\n",
       "      <td>True</td>\n",
       "      <td>False</td>\n",
       "      <td>...</td>\n",
       "      <td>41</td>\n",
       "      <td>26</td>\n",
       "      <td>1185098.0</td>\n",
       "      <td>1871194.0</td>\n",
       "      <td>2024</td>\n",
       "      <td>2024-10-30T15:41:19.000</td>\n",
       "      <td>41.801709</td>\n",
       "      <td>-87.596698</td>\n",
       "      <td>{'latitude': '41.801709383', 'longitude': '-87...</td>\n",
       "      <td>1.0</td>\n",
       "    </tr>\n",
       "    <tr>\n",
       "      <th>1</th>\n",
       "      <td>13640715</td>\n",
       "      <td>JH480350</td>\n",
       "      <td>2024-10-23T00:00:00.000</td>\n",
       "      <td>014XX S RIDGEWAY AVE</td>\n",
       "      <td>4650</td>\n",
       "      <td>OTHER OFFENSE</td>\n",
       "      <td>SEX OFFENDER - FAIL TO REGISTER</td>\n",
       "      <td>APARTMENT</td>\n",
       "      <td>False</td>\n",
       "      <td>False</td>\n",
       "      <td>...</td>\n",
       "      <td>29</td>\n",
       "      <td>26</td>\n",
       "      <td>1151613.0</td>\n",
       "      <td>1892717.0</td>\n",
       "      <td>2024</td>\n",
       "      <td>2024-10-30T15:41:19.000</td>\n",
       "      <td>41.861493</td>\n",
       "      <td>-87.718936</td>\n",
       "      <td>{'latitude': '41.861493158', 'longitude': '-87...</td>\n",
       "      <td>36.0</td>\n",
       "    </tr>\n",
       "    <tr>\n",
       "      <th>2</th>\n",
       "      <td>13644428</td>\n",
       "      <td>JH484973</td>\n",
       "      <td>2024-10-23T00:00:00.000</td>\n",
       "      <td>045XX N CLARENDON AVE</td>\n",
       "      <td>2826</td>\n",
       "      <td>OTHER OFFENSE</td>\n",
       "      <td>HARASSMENT BY ELECTRONIC MEANS</td>\n",
       "      <td>APARTMENT</td>\n",
       "      <td>False</td>\n",
       "      <td>False</td>\n",
       "      <td>...</td>\n",
       "      <td>3</td>\n",
       "      <td>26</td>\n",
       "      <td>1170091.0</td>\n",
       "      <td>1930547.0</td>\n",
       "      <td>2024</td>\n",
       "      <td>2024-10-30T15:41:19.000</td>\n",
       "      <td>41.964918</td>\n",
       "      <td>-87.650001</td>\n",
       "      <td>{'latitude': '41.96491786', 'longitude': '-87....</td>\n",
       "      <td>37.0</td>\n",
       "    </tr>\n",
       "    <tr>\n",
       "      <th>3</th>\n",
       "      <td>13640484</td>\n",
       "      <td>JH480220</td>\n",
       "      <td>2024-10-23T00:00:00.000</td>\n",
       "      <td>001XX W CERMAK RD</td>\n",
       "      <td>2028</td>\n",
       "      <td>NARCOTICS</td>\n",
       "      <td>POSSESS - SYNTHETIC DRUGS</td>\n",
       "      <td>CTA PLATFORM</td>\n",
       "      <td>True</td>\n",
       "      <td>False</td>\n",
       "      <td>...</td>\n",
       "      <td>33</td>\n",
       "      <td>18</td>\n",
       "      <td>1175994.0</td>\n",
       "      <td>1889765.0</td>\n",
       "      <td>2024</td>\n",
       "      <td>2024-10-30T15:41:19.000</td>\n",
       "      <td>41.852879</td>\n",
       "      <td>-87.629527</td>\n",
       "      <td>{'latitude': '41.852879013', 'longitude': '-87...</td>\n",
       "      <td>12.0</td>\n",
       "    </tr>\n",
       "  </tbody>\n",
       "</table>\n",
       "<p>4 rows × 23 columns</p>\n",
       "</div>"
      ],
      "text/plain": [
       "         id case_number                     date                  block  iucr  \\\n",
       "0  13639616    JH479028  2024-10-23T00:00:00.000   051XX S WOODLAWN AVE  1365   \n",
       "1  13640715    JH480350  2024-10-23T00:00:00.000   014XX S RIDGEWAY AVE  4650   \n",
       "2  13644428    JH484973  2024-10-23T00:00:00.000  045XX N CLARENDON AVE  2826   \n",
       "3  13640484    JH480220  2024-10-23T00:00:00.000      001XX W CERMAK RD  2028   \n",
       "\n",
       "        primary_type                      description location_description  \\\n",
       "0  CRIMINAL TRESPASS                     TO RESIDENCE            APARTMENT   \n",
       "1      OTHER OFFENSE  SEX OFFENDER - FAIL TO REGISTER            APARTMENT   \n",
       "2      OTHER OFFENSE   HARASSMENT BY ELECTRONIC MEANS            APARTMENT   \n",
       "3          NARCOTICS        POSSESS - SYNTHETIC DRUGS         CTA PLATFORM   \n",
       "\n",
       "   arrest  domestic  ...  community_area  fbi_code  x_coordinate  \\\n",
       "0    True     False  ...              41        26     1185098.0   \n",
       "1   False     False  ...              29        26     1151613.0   \n",
       "2   False     False  ...               3        26     1170091.0   \n",
       "3    True     False  ...              33        18     1175994.0   \n",
       "\n",
       "   y_coordinate  year               updated_on   latitude  longitude  \\\n",
       "0     1871194.0  2024  2024-10-30T15:41:19.000  41.801709 -87.596698   \n",
       "1     1892717.0  2024  2024-10-30T15:41:19.000  41.861493 -87.718936   \n",
       "2     1930547.0  2024  2024-10-30T15:41:19.000  41.964918 -87.650001   \n",
       "3     1889765.0  2024  2024-10-30T15:41:19.000  41.852879 -87.629527   \n",
       "\n",
       "                                            location  \\\n",
       "0  {'latitude': '41.801709383', 'longitude': '-87...   \n",
       "1  {'latitude': '41.861493158', 'longitude': '-87...   \n",
       "2  {'latitude': '41.96491786', 'longitude': '-87....   \n",
       "3  {'latitude': '41.852879013', 'longitude': '-87...   \n",
       "\n",
       "   :@computed_region_awaf_s7ux  \n",
       "0                          1.0  \n",
       "1                         36.0  \n",
       "2                         37.0  \n",
       "3                         12.0  \n",
       "\n",
       "[4 rows x 23 columns]"
      ]
     },
     "execution_count": 5,
     "metadata": {},
     "output_type": "execute_result"
    }
   ],
   "source": [
    "# Converting result into dataframe\n",
    "results_df = pd.read_csv(dataset_path)\n",
    "results_df.head(4)"
   ]
  },
  {
   "cell_type": "code",
   "execution_count": 6,
   "metadata": {},
   "outputs": [],
   "source": [
    "# Dropping redundant columns\n",
    "results_df.drop(columns=results_df.columns[22:], axis = 1, inplace= True)"
   ]
  },
  {
   "cell_type": "code",
   "execution_count": 7,
   "metadata": {},
   "outputs": [
    {
     "name": "stdout",
     "output_type": "stream",
     "text": [
      "Duplicated rows detected: 0\n"
     ]
    }
   ],
   "source": [
    "# Check duplicate rows\n",
    "print(f\"Duplicated rows detected: {sum(results_df.duplicated())}\")"
   ]
  },
  {
   "cell_type": "code",
   "execution_count": 8,
   "metadata": {},
   "outputs": [
    {
     "data": {
      "text/plain": [
       "id                        0\n",
       "case_number               0\n",
       "date                      0\n",
       "block                     0\n",
       "iucr                      0\n",
       "primary_type              0\n",
       "description               0\n",
       "location_description    307\n",
       "arrest                    0\n",
       "domestic                  0\n",
       "beat                      0\n",
       "district                  0\n",
       "ward                      0\n",
       "community_area            0\n",
       "fbi_code                  0\n",
       "x_coordinate            120\n",
       "y_coordinate            120\n",
       "year                      0\n",
       "updated_on                0\n",
       "latitude                120\n",
       "longitude               120\n",
       "location                120\n",
       "dtype: int64"
      ]
     },
     "execution_count": 8,
     "metadata": {},
     "output_type": "execute_result"
    }
   ],
   "source": [
    "# Check missing values\n",
    "results_df.isna().sum()"
   ]
  }
 ],
 "metadata": {
  "kernelspec": {
   "display_name": "Python 3",
   "language": "python",
   "name": "python3"
  },
  "language_info": {
   "codemirror_mode": {
    "name": "ipython",
    "version": 3
   },
   "file_extension": ".py",
   "mimetype": "text/x-python",
   "name": "python",
   "nbconvert_exporter": "python",
   "pygments_lexer": "ipython3",
   "version": "3.10.15"
  }
 },
 "nbformat": 4,
 "nbformat_minor": 2
}
