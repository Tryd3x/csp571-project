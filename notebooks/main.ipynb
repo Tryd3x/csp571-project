{
 "cells": [
  {
   "cell_type": "code",
   "execution_count": 17,
   "metadata": {},
   "outputs": [],
   "source": [
    "import warnings\n",
    "warnings.filterwarnings('ignore')\n",
    "\n",
    "from pathlib import Path\n",
    "from utils.data_loader import load_crime_dataset\n",
    "\n",
    "import pandas as pd\n",
    "import matplotlib.pyplot as plt"
   ]
  },
  {
   "cell_type": "code",
   "execution_count": 18,
   "metadata": {},
   "outputs": [
    {
     "name": "stdout",
     "output_type": "stream",
     "text": [
      "File found: chicago-crime-data.csv\n"
     ]
    }
   ],
   "source": [
    "# Location of stored dataset\n",
    "dataset_path = Path('../datasets/chicago-crime-data.csv')\n",
    "\n",
    "if dataset_path.exists():\n",
    "    print(f\"File found: {dataset_path.name}\")\n",
    "else:\n",
    "    load_crime_dataset()"
   ]
  },
  {
   "cell_type": "code",
   "execution_count": 19,
   "metadata": {},
   "outputs": [
    {
     "data": {
      "text/html": [
       "<div>\n",
       "<style scoped>\n",
       "    .dataframe tbody tr th:only-of-type {\n",
       "        vertical-align: middle;\n",
       "    }\n",
       "\n",
       "    .dataframe tbody tr th {\n",
       "        vertical-align: top;\n",
       "    }\n",
       "\n",
       "    .dataframe thead th {\n",
       "        text-align: right;\n",
       "    }\n",
       "</style>\n",
       "<table border=\"1\" class=\"dataframe\">\n",
       "  <thead>\n",
       "    <tr style=\"text-align: right;\">\n",
       "      <th></th>\n",
       "      <th>id</th>\n",
       "      <th>case_number</th>\n",
       "      <th>date</th>\n",
       "      <th>block</th>\n",
       "      <th>iucr</th>\n",
       "      <th>primary_type</th>\n",
       "      <th>description</th>\n",
       "      <th>location_description</th>\n",
       "      <th>arrest</th>\n",
       "      <th>domestic</th>\n",
       "      <th>...</th>\n",
       "      <th>community_area</th>\n",
       "      <th>fbi_code</th>\n",
       "      <th>x_coordinate</th>\n",
       "      <th>y_coordinate</th>\n",
       "      <th>year</th>\n",
       "      <th>updated_on</th>\n",
       "      <th>latitude</th>\n",
       "      <th>longitude</th>\n",
       "      <th>location</th>\n",
       "      <th>:@computed_region_awaf_s7ux</th>\n",
       "    </tr>\n",
       "  </thead>\n",
       "  <tbody>\n",
       "    <tr>\n",
       "      <th>0</th>\n",
       "      <td>13647521</td>\n",
       "      <td>JH488715</td>\n",
       "      <td>2024-10-27T00:00:00.000</td>\n",
       "      <td>045XX W WELLINGTON AVE</td>\n",
       "      <td>1320</td>\n",
       "      <td>CRIMINAL DAMAGE</td>\n",
       "      <td>TO VEHICLE</td>\n",
       "      <td>STREET</td>\n",
       "      <td>False</td>\n",
       "      <td>False</td>\n",
       "      <td>...</td>\n",
       "      <td>20.0</td>\n",
       "      <td>14</td>\n",
       "      <td>1145677.0</td>\n",
       "      <td>1919561.0</td>\n",
       "      <td>2024</td>\n",
       "      <td>2024-11-03T15:42:31.000</td>\n",
       "      <td>41.935271</td>\n",
       "      <td>-87.740045</td>\n",
       "      <td>{'latitude': '41.935270542', 'longitude': '-87...</td>\n",
       "      <td>7.0</td>\n",
       "    </tr>\n",
       "    <tr>\n",
       "      <th>1</th>\n",
       "      <td>13644362</td>\n",
       "      <td>JH484829</td>\n",
       "      <td>2024-10-27T00:00:00.000</td>\n",
       "      <td>015XX N LOCKWOOD AVE</td>\n",
       "      <td>0710</td>\n",
       "      <td>THEFT</td>\n",
       "      <td>THEFT FROM MOTOR VEHICLE</td>\n",
       "      <td>STREET</td>\n",
       "      <td>False</td>\n",
       "      <td>False</td>\n",
       "      <td>...</td>\n",
       "      <td>25.0</td>\n",
       "      <td>06</td>\n",
       "      <td>1140747.0</td>\n",
       "      <td>1909683.0</td>\n",
       "      <td>2024</td>\n",
       "      <td>2024-11-03T15:42:31.000</td>\n",
       "      <td>41.908256</td>\n",
       "      <td>-87.758406</td>\n",
       "      <td>{'latitude': '41.908256441', 'longitude': '-87...</td>\n",
       "      <td>4.0</td>\n",
       "    </tr>\n",
       "    <tr>\n",
       "      <th>2</th>\n",
       "      <td>13646926</td>\n",
       "      <td>JH486773</td>\n",
       "      <td>2024-10-27T00:00:00.000</td>\n",
       "      <td>039XX W CORNELIA AVE</td>\n",
       "      <td>1320</td>\n",
       "      <td>CRIMINAL DAMAGE</td>\n",
       "      <td>TO VEHICLE</td>\n",
       "      <td>STREET</td>\n",
       "      <td>False</td>\n",
       "      <td>False</td>\n",
       "      <td>...</td>\n",
       "      <td>21.0</td>\n",
       "      <td>14</td>\n",
       "      <td>1149691.0</td>\n",
       "      <td>1922983.0</td>\n",
       "      <td>2024</td>\n",
       "      <td>2024-11-03T15:42:31.000</td>\n",
       "      <td>41.944584</td>\n",
       "      <td>-87.725204</td>\n",
       "      <td>{'latitude': '41.944583619', 'longitude': '-87...</td>\n",
       "      <td>27.0</td>\n",
       "    </tr>\n",
       "    <tr>\n",
       "      <th>3</th>\n",
       "      <td>13643859</td>\n",
       "      <td>JH484227</td>\n",
       "      <td>2024-10-27T00:00:00.000</td>\n",
       "      <td>066XX N OLYMPIA AVE</td>\n",
       "      <td>0486</td>\n",
       "      <td>BATTERY</td>\n",
       "      <td>DOMESTIC BATTERY SIMPLE</td>\n",
       "      <td>RESIDENCE</td>\n",
       "      <td>True</td>\n",
       "      <td>True</td>\n",
       "      <td>...</td>\n",
       "      <td>9.0</td>\n",
       "      <td>08B</td>\n",
       "      <td>1125451.0</td>\n",
       "      <td>1943751.0</td>\n",
       "      <td>2024</td>\n",
       "      <td>2024-11-03T15:42:31.000</td>\n",
       "      <td>42.002011</td>\n",
       "      <td>-87.813839</td>\n",
       "      <td>{'latitude': '42.002010603', 'longitude': '-87...</td>\n",
       "      <td>34.0</td>\n",
       "    </tr>\n",
       "  </tbody>\n",
       "</table>\n",
       "<p>4 rows × 23 columns</p>\n",
       "</div>"
      ],
      "text/plain": [
       "         id case_number                     date                   block  \\\n",
       "0  13647521    JH488715  2024-10-27T00:00:00.000  045XX W WELLINGTON AVE   \n",
       "1  13644362    JH484829  2024-10-27T00:00:00.000    015XX N LOCKWOOD AVE   \n",
       "2  13646926    JH486773  2024-10-27T00:00:00.000    039XX W CORNELIA AVE   \n",
       "3  13643859    JH484227  2024-10-27T00:00:00.000     066XX N OLYMPIA AVE   \n",
       "\n",
       "   iucr     primary_type               description location_description  \\\n",
       "0  1320  CRIMINAL DAMAGE                TO VEHICLE               STREET   \n",
       "1  0710            THEFT  THEFT FROM MOTOR VEHICLE               STREET   \n",
       "2  1320  CRIMINAL DAMAGE                TO VEHICLE               STREET   \n",
       "3  0486          BATTERY   DOMESTIC BATTERY SIMPLE            RESIDENCE   \n",
       "\n",
       "   arrest  domestic  ...  community_area  fbi_code  x_coordinate  \\\n",
       "0   False     False  ...            20.0        14     1145677.0   \n",
       "1   False     False  ...            25.0        06     1140747.0   \n",
       "2   False     False  ...            21.0        14     1149691.0   \n",
       "3    True      True  ...             9.0       08B     1125451.0   \n",
       "\n",
       "   y_coordinate  year               updated_on   latitude  longitude  \\\n",
       "0     1919561.0  2024  2024-11-03T15:42:31.000  41.935271 -87.740045   \n",
       "1     1909683.0  2024  2024-11-03T15:42:31.000  41.908256 -87.758406   \n",
       "2     1922983.0  2024  2024-11-03T15:42:31.000  41.944584 -87.725204   \n",
       "3     1943751.0  2024  2024-11-03T15:42:31.000  42.002011 -87.813839   \n",
       "\n",
       "                                            location  \\\n",
       "0  {'latitude': '41.935270542', 'longitude': '-87...   \n",
       "1  {'latitude': '41.908256441', 'longitude': '-87...   \n",
       "2  {'latitude': '41.944583619', 'longitude': '-87...   \n",
       "3  {'latitude': '42.002010603', 'longitude': '-87...   \n",
       "\n",
       "   :@computed_region_awaf_s7ux  \n",
       "0                          7.0  \n",
       "1                          4.0  \n",
       "2                         27.0  \n",
       "3                         34.0  \n",
       "\n",
       "[4 rows x 23 columns]"
      ]
     },
     "execution_count": 19,
     "metadata": {},
     "output_type": "execute_result"
    }
   ],
   "source": [
    "# Converting result into dataframe\n",
    "results_df = pd.read_csv(dataset_path)\n",
    "results_df.head(4)"
   ]
  },
  {
   "cell_type": "code",
   "execution_count": 20,
   "metadata": {},
   "outputs": [],
   "source": [
    "# Dropping redundant columns\n",
    "results_df.drop(columns=results_df.columns[22:], axis = 1, inplace= True)"
   ]
  },
  {
   "cell_type": "code",
   "execution_count": 21,
   "metadata": {},
   "outputs": [
    {
     "name": "stdout",
     "output_type": "stream",
     "text": [
      "Duplicated rows detected: 0\n"
     ]
    }
   ],
   "source": [
    "# Check duplicate rows\n",
    "print(f\"Duplicated rows detected: {sum(results_df.duplicated())}\")"
   ]
  },
  {
   "cell_type": "code",
   "execution_count": 22,
   "metadata": {},
   "outputs": [
    {
     "data": {
      "text/plain": [
       "id                        0\n",
       "case_number               0\n",
       "date                      0\n",
       "block                     0\n",
       "iucr                      0\n",
       "primary_type              0\n",
       "description               0\n",
       "location_description    304\n",
       "arrest                    0\n",
       "domestic                  0\n",
       "beat                      0\n",
       "district                  0\n",
       "ward                      0\n",
       "community_area            1\n",
       "fbi_code                  0\n",
       "x_coordinate             34\n",
       "y_coordinate             34\n",
       "year                      0\n",
       "updated_on                0\n",
       "latitude                 34\n",
       "longitude                34\n",
       "location                 34\n",
       "dtype: int64"
      ]
     },
     "execution_count": 22,
     "metadata": {},
     "output_type": "execute_result"
    }
   ],
   "source": [
    "# Check missing values\n",
    "results_df.isna().sum()"
   ]
  },
  {
   "cell_type": "code",
   "execution_count": null,
   "metadata": {},
   "outputs": [],
   "source": []
  },
  {
   "cell_type": "code",
   "execution_count": null,
   "metadata": {},
   "outputs": [],
   "source": []
  },
  {
   "cell_type": "code",
   "execution_count": null,
   "metadata": {},
   "outputs": [],
   "source": []
  }
 ],
 "metadata": {
  "kernelspec": {
   "display_name": "Python 3 (ipykernel)",
   "language": "python",
   "name": "python3"
  },
  "language_info": {
   "codemirror_mode": {
    "name": "ipython",
    "version": 3
   },
   "file_extension": ".py",
   "mimetype": "text/x-python",
   "name": "python",
   "nbconvert_exporter": "python",
   "pygments_lexer": "ipython3",
   "version": "3.12.4"
  }
 },
 "nbformat": 4,
 "nbformat_minor": 4
}
