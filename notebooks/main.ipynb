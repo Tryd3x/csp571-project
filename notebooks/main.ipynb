{
 "cells": [
  {
   "cell_type": "markdown",
   "metadata": {},
   "source": [
    "# **Problem Statement**\n",
    "\n"
   ]
  },
  {
   "cell_type": "markdown",
   "metadata": {},
   "source": [
    "### **Loading Libraries**"
   ]
  },
  {
   "cell_type": "code",
   "execution_count": 2,
   "metadata": {},
   "outputs": [],
   "source": [
    "import warnings\n",
    "warnings.filterwarnings('ignore')\n",
    "\n",
    "from pathlib import Path\n",
    "from utils.data_loader import load_crime_dataset\n",
    "\n",
    "import pandas as pd\n",
    "import seaborn as sns\n",
    "import matplotlib.pyplot as plt\n",
    "\n",
    "# Set theme of pyplot library\n",
    "\n",
    "sns.set_theme(style=\"ticks\", color_codes=True)"
   ]
  },
  {
   "cell_type": "markdown",
   "metadata": {},
   "source": [
    "### **Downloading/Locating dataset**"
   ]
  },
  {
   "cell_type": "code",
   "execution_count": 3,
   "metadata": {},
   "outputs": [
    {
     "name": "stdout",
     "output_type": "stream",
     "text": [
      "File found: chicago-crime-data.csv\n"
     ]
    }
   ],
   "source": [
    "# Location of stored dataset\n",
    "dataset_path = Path('../datasets/chicago-crime-data.csv')\n",
    "\n",
    "if dataset_path.exists():\n",
    "    print(f\"File found: {dataset_path.name}\")\n",
    "else:\n",
    "    load_crime_dataset()"
   ]
  },
  {
   "cell_type": "markdown",
   "metadata": {},
   "source": [
    "### **Loading Dataset**"
   ]
  },
  {
   "cell_type": "code",
   "execution_count": 4,
   "metadata": {},
   "outputs": [
    {
     "name": "stdout",
     "output_type": "stream",
     "text": [
      "(100000, 23)\n"
     ]
    },
    {
     "data": {
      "text/html": [
       "<div>\n",
       "<style scoped>\n",
       "    .dataframe tbody tr th:only-of-type {\n",
       "        vertical-align: middle;\n",
       "    }\n",
       "\n",
       "    .dataframe tbody tr th {\n",
       "        vertical-align: top;\n",
       "    }\n",
       "\n",
       "    .dataframe thead th {\n",
       "        text-align: right;\n",
       "    }\n",
       "</style>\n",
       "<table border=\"1\" class=\"dataframe\">\n",
       "  <thead>\n",
       "    <tr style=\"text-align: right;\">\n",
       "      <th></th>\n",
       "      <th>id</th>\n",
       "      <th>case_number</th>\n",
       "      <th>date</th>\n",
       "      <th>block</th>\n",
       "      <th>iucr</th>\n",
       "      <th>primary_type</th>\n",
       "      <th>description</th>\n",
       "      <th>location_description</th>\n",
       "      <th>arrest</th>\n",
       "      <th>domestic</th>\n",
       "      <th>...</th>\n",
       "      <th>community_area</th>\n",
       "      <th>fbi_code</th>\n",
       "      <th>x_coordinate</th>\n",
       "      <th>y_coordinate</th>\n",
       "      <th>year</th>\n",
       "      <th>updated_on</th>\n",
       "      <th>latitude</th>\n",
       "      <th>longitude</th>\n",
       "      <th>location</th>\n",
       "      <th>:@computed_region_awaf_s7ux</th>\n",
       "    </tr>\n",
       "  </thead>\n",
       "  <tbody>\n",
       "    <tr>\n",
       "      <th>0</th>\n",
       "      <td>13641131</td>\n",
       "      <td>JH480792</td>\n",
       "      <td>2024-10-24T00:00:00.000</td>\n",
       "      <td>080XX S VINCENNES AVE</td>\n",
       "      <td>1310</td>\n",
       "      <td>CRIMINAL DAMAGE</td>\n",
       "      <td>TO PROPERTY</td>\n",
       "      <td>APARTMENT</td>\n",
       "      <td>False</td>\n",
       "      <td>True</td>\n",
       "      <td>...</td>\n",
       "      <td>44.0</td>\n",
       "      <td>14</td>\n",
       "      <td>1174857.0</td>\n",
       "      <td>1851682.0</td>\n",
       "      <td>2024</td>\n",
       "      <td>2024-10-31T15:41:20.000</td>\n",
       "      <td>41.748401</td>\n",
       "      <td>-87.634836</td>\n",
       "      <td>{'latitude': '41.748400979', 'longitude': '-87...</td>\n",
       "      <td>17.0</td>\n",
       "    </tr>\n",
       "    <tr>\n",
       "      <th>1</th>\n",
       "      <td>13641183</td>\n",
       "      <td>JH480745</td>\n",
       "      <td>2024-10-24T00:00:00.000</td>\n",
       "      <td>050XX S HOMAN AVE</td>\n",
       "      <td>0560</td>\n",
       "      <td>ASSAULT</td>\n",
       "      <td>SIMPLE</td>\n",
       "      <td>SCHOOL - PUBLIC GROUNDS</td>\n",
       "      <td>False</td>\n",
       "      <td>False</td>\n",
       "      <td>...</td>\n",
       "      <td>63.0</td>\n",
       "      <td>08A</td>\n",
       "      <td>1154558.0</td>\n",
       "      <td>1870934.0</td>\n",
       "      <td>2024</td>\n",
       "      <td>2024-10-31T15:41:20.000</td>\n",
       "      <td>41.801660</td>\n",
       "      <td>-87.708707</td>\n",
       "      <td>{'latitude': '41.801659529', 'longitude': '-87...</td>\n",
       "      <td>49.0</td>\n",
       "    </tr>\n",
       "    <tr>\n",
       "      <th>2</th>\n",
       "      <td>13641492</td>\n",
       "      <td>JH481388</td>\n",
       "      <td>2024-10-24T00:00:00.000</td>\n",
       "      <td>019XX N ELSTON AVE</td>\n",
       "      <td>1152</td>\n",
       "      <td>DECEPTIVE PRACTICE</td>\n",
       "      <td>ILLEGAL USE CASH CARD</td>\n",
       "      <td>APARTMENT</td>\n",
       "      <td>False</td>\n",
       "      <td>False</td>\n",
       "      <td>...</td>\n",
       "      <td>22.0</td>\n",
       "      <td>11</td>\n",
       "      <td>1165676.0</td>\n",
       "      <td>1913009.0</td>\n",
       "      <td>2024</td>\n",
       "      <td>2024-10-31T15:41:20.000</td>\n",
       "      <td>41.916888</td>\n",
       "      <td>-87.666735</td>\n",
       "      <td>{'latitude': '41.916888176', 'longitude': '-87...</td>\n",
       "      <td>16.0</td>\n",
       "    </tr>\n",
       "    <tr>\n",
       "      <th>3</th>\n",
       "      <td>13643453</td>\n",
       "      <td>JH483847</td>\n",
       "      <td>2024-10-24T00:00:00.000</td>\n",
       "      <td>010XX N WOOD ST</td>\n",
       "      <td>1320</td>\n",
       "      <td>CRIMINAL DAMAGE</td>\n",
       "      <td>TO VEHICLE</td>\n",
       "      <td>STREET</td>\n",
       "      <td>False</td>\n",
       "      <td>False</td>\n",
       "      <td>...</td>\n",
       "      <td>24.0</td>\n",
       "      <td>14</td>\n",
       "      <td>1164204.0</td>\n",
       "      <td>1907061.0</td>\n",
       "      <td>2024</td>\n",
       "      <td>2024-10-31T15:41:20.000</td>\n",
       "      <td>41.900598</td>\n",
       "      <td>-87.672311</td>\n",
       "      <td>{'latitude': '41.900597722', 'longitude': '-87...</td>\n",
       "      <td>24.0</td>\n",
       "    </tr>\n",
       "  </tbody>\n",
       "</table>\n",
       "<p>4 rows × 23 columns</p>\n",
       "</div>"
      ],
      "text/plain": [
       "         id case_number                     date                  block  iucr  \\\n",
       "0  13641131    JH480792  2024-10-24T00:00:00.000  080XX S VINCENNES AVE  1310   \n",
       "1  13641183    JH480745  2024-10-24T00:00:00.000      050XX S HOMAN AVE  0560   \n",
       "2  13641492    JH481388  2024-10-24T00:00:00.000     019XX N ELSTON AVE  1152   \n",
       "3  13643453    JH483847  2024-10-24T00:00:00.000        010XX N WOOD ST  1320   \n",
       "\n",
       "         primary_type            description     location_description  arrest  \\\n",
       "0     CRIMINAL DAMAGE            TO PROPERTY                APARTMENT   False   \n",
       "1             ASSAULT                 SIMPLE  SCHOOL - PUBLIC GROUNDS   False   \n",
       "2  DECEPTIVE PRACTICE  ILLEGAL USE CASH CARD                APARTMENT   False   \n",
       "3     CRIMINAL DAMAGE             TO VEHICLE                   STREET   False   \n",
       "\n",
       "   domestic  ...  community_area  fbi_code  x_coordinate  y_coordinate  year  \\\n",
       "0      True  ...            44.0        14     1174857.0     1851682.0  2024   \n",
       "1     False  ...            63.0       08A     1154558.0     1870934.0  2024   \n",
       "2     False  ...            22.0        11     1165676.0     1913009.0  2024   \n",
       "3     False  ...            24.0        14     1164204.0     1907061.0  2024   \n",
       "\n",
       "                updated_on   latitude  longitude  \\\n",
       "0  2024-10-31T15:41:20.000  41.748401 -87.634836   \n",
       "1  2024-10-31T15:41:20.000  41.801660 -87.708707   \n",
       "2  2024-10-31T15:41:20.000  41.916888 -87.666735   \n",
       "3  2024-10-31T15:41:20.000  41.900598 -87.672311   \n",
       "\n",
       "                                            location  \\\n",
       "0  {'latitude': '41.748400979', 'longitude': '-87...   \n",
       "1  {'latitude': '41.801659529', 'longitude': '-87...   \n",
       "2  {'latitude': '41.916888176', 'longitude': '-87...   \n",
       "3  {'latitude': '41.900597722', 'longitude': '-87...   \n",
       "\n",
       "   :@computed_region_awaf_s7ux  \n",
       "0                         17.0  \n",
       "1                         49.0  \n",
       "2                         16.0  \n",
       "3                         24.0  \n",
       "\n",
       "[4 rows x 23 columns]"
      ]
     },
     "execution_count": 4,
     "metadata": {},
     "output_type": "execute_result"
    }
   ],
   "source": [
    "# Converting result into dataframe\n",
    "crime_df = pd.read_csv(dataset_path)\n",
    "print(crime_df.shape)\n",
    "crime_df.head(4)"
   ]
  },
  {
   "cell_type": "code",
   "execution_count": 5,
   "metadata": {},
   "outputs": [
    {
     "data": {
      "text/plain": [
       "Index(['id', 'case_number', 'date', 'block', 'iucr', 'primary_type',\n",
       "       'description', 'location_description', 'arrest', 'domestic', 'beat',\n",
       "       'district', 'ward', 'community_area', 'fbi_code', 'x_coordinate',\n",
       "       'y_coordinate', 'year', 'updated_on', 'latitude', 'longitude',\n",
       "       'location', ':@computed_region_awaf_s7ux'],\n",
       "      dtype='object')"
      ]
     },
     "execution_count": 5,
     "metadata": {},
     "output_type": "execute_result"
    }
   ],
   "source": [
    "crime_df.columns"
   ]
  },
  {
   "cell_type": "code",
   "execution_count": 36,
   "metadata": {},
   "outputs": [],
   "source": [
    "# Dropping redundant columns\n",
    "crime_df.drop(columns=crime_df.columns[22:], axis = 1, inplace= True)"
   ]
  },
  {
   "cell_type": "code",
   "execution_count": 37,
   "metadata": {},
   "outputs": [
    {
     "name": "stdout",
     "output_type": "stream",
     "text": [
      "Duplicated rows detected: 0\n"
     ]
    }
   ],
   "source": [
    "# Check duplicate rows\n",
    "print(f\"Duplicated rows detected: {sum(crime_df.duplicated())}\")"
   ]
  },
  {
   "cell_type": "code",
   "execution_count": 38,
   "metadata": {},
   "outputs": [
    {
     "data": {
      "text/plain": [
       "id                        0\n",
       "case_number               0\n",
       "date                      0\n",
       "block                     0\n",
       "iucr                      0\n",
       "primary_type              0\n",
       "description               0\n",
       "location_description    310\n",
       "arrest                    0\n",
       "domestic                  0\n",
       "beat                      0\n",
       "district                  0\n",
       "ward                      0\n",
       "community_area            1\n",
       "fbi_code                  0\n",
       "x_coordinate             90\n",
       "y_coordinate             90\n",
       "year                      0\n",
       "updated_on                0\n",
       "latitude                 90\n",
       "longitude                90\n",
       "location                 90\n",
       "dtype: int64"
      ]
     },
     "execution_count": 38,
     "metadata": {},
     "output_type": "execute_result"
    }
   ],
   "source": [
    "# Check missing values\n",
    "crime_df.isna().sum()"
   ]
  },
  {
   "cell_type": "code",
   "execution_count": 39,
   "metadata": {},
   "outputs": [
    {
     "data": {
      "text/plain": [
       "(99602, 22)"
      ]
     },
     "execution_count": 39,
     "metadata": {},
     "output_type": "execute_result"
    }
   ],
   "source": [
    "# Dropping rows with missing values\n",
    "crime_df.dropna(inplace=True)\n",
    "crime_df.shape"
   ]
  },
  {
   "cell_type": "markdown",
   "metadata": {},
   "source": [
    "## **Seggregate Numerical and Categorical features**"
   ]
  },
  {
   "cell_type": "code",
   "execution_count": 40,
   "metadata": {},
   "outputs": [
    {
     "name": "stdout",
     "output_type": "stream",
     "text": [
      "<class 'pandas.core.frame.DataFrame'>\n",
      "Index: 99602 entries, 0 to 99999\n",
      "Data columns (total 22 columns):\n",
      " #   Column                Non-Null Count  Dtype  \n",
      "---  ------                --------------  -----  \n",
      " 0   id                    99602 non-null  int64  \n",
      " 1   case_number           99602 non-null  object \n",
      " 2   date                  99602 non-null  object \n",
      " 3   block                 99602 non-null  object \n",
      " 4   iucr                  99602 non-null  object \n",
      " 5   primary_type          99602 non-null  object \n",
      " 6   description           99602 non-null  object \n",
      " 7   location_description  99602 non-null  object \n",
      " 8   arrest                99602 non-null  bool   \n",
      " 9   domestic              99602 non-null  bool   \n",
      " 10  beat                  99602 non-null  int64  \n",
      " 11  district              99602 non-null  int64  \n",
      " 12  ward                  99602 non-null  int64  \n",
      " 13  community_area        99602 non-null  float64\n",
      " 14  fbi_code              99602 non-null  object \n",
      " 15  x_coordinate          99602 non-null  float64\n",
      " 16  y_coordinate          99602 non-null  float64\n",
      " 17  year                  99602 non-null  int64  \n",
      " 18  updated_on            99602 non-null  object \n",
      " 19  latitude              99602 non-null  float64\n",
      " 20  longitude             99602 non-null  float64\n",
      " 21  location              99602 non-null  object \n",
      "dtypes: bool(2), float64(5), int64(5), object(10)\n",
      "memory usage: 16.1+ MB\n"
     ]
    }
   ],
   "source": [
    "crime_df.info()"
   ]
  },
  {
   "cell_type": "code",
   "execution_count": 41,
   "metadata": {},
   "outputs": [
    {
     "name": "stdout",
     "output_type": "stream",
     "text": [
      "Index(['id', 'beat', 'district', 'ward', 'community_area', 'x_coordinate',\n",
      "       'y_coordinate', 'year', 'latitude', 'longitude'],\n",
      "      dtype='object')\n",
      "\n",
      "Index(['case_number', 'date', 'block', 'iucr', 'primary_type', 'description',\n",
      "       'location_description', 'arrest', 'domestic', 'fbi_code', 'updated_on',\n",
      "       'location'],\n",
      "      dtype='object')\n"
     ]
    }
   ],
   "source": [
    "# Numerical columns\n",
    "num_col = crime_df.select_dtypes(include=['int64', 'float64']).columns\n",
    "\n",
    "# Categorical columns\n",
    "cat_col = crime_df.select_dtypes(include=['object', 'bool']).columns\n",
    "\n",
    "print(num_col, end='\\n\\n')\n",
    "print(cat_col)"
   ]
  },
  {
   "cell_type": "code",
   "execution_count": 42,
   "metadata": {},
   "outputs": [
    {
     "data": {
      "text/html": [
       "<div>\n",
       "<style scoped>\n",
       "    .dataframe tbody tr th:only-of-type {\n",
       "        vertical-align: middle;\n",
       "    }\n",
       "\n",
       "    .dataframe tbody tr th {\n",
       "        vertical-align: top;\n",
       "    }\n",
       "\n",
       "    .dataframe thead th {\n",
       "        text-align: right;\n",
       "    }\n",
       "</style>\n",
       "<table border=\"1\" class=\"dataframe\">\n",
       "  <thead>\n",
       "    <tr style=\"text-align: right;\">\n",
       "      <th></th>\n",
       "      <th>case_number</th>\n",
       "      <th>date</th>\n",
       "      <th>block</th>\n",
       "      <th>iucr</th>\n",
       "      <th>primary_type</th>\n",
       "      <th>description</th>\n",
       "      <th>location_description</th>\n",
       "      <th>arrest</th>\n",
       "      <th>domestic</th>\n",
       "      <th>fbi_code</th>\n",
       "      <th>updated_on</th>\n",
       "      <th>location</th>\n",
       "    </tr>\n",
       "  </thead>\n",
       "  <tbody>\n",
       "    <tr>\n",
       "      <th>0</th>\n",
       "      <td>JH480792</td>\n",
       "      <td>2024-10-24T00:00:00.000</td>\n",
       "      <td>080XX S VINCENNES AVE</td>\n",
       "      <td>1310</td>\n",
       "      <td>CRIMINAL DAMAGE</td>\n",
       "      <td>TO PROPERTY</td>\n",
       "      <td>APARTMENT</td>\n",
       "      <td>False</td>\n",
       "      <td>True</td>\n",
       "      <td>14</td>\n",
       "      <td>2024-10-31T15:41:20.000</td>\n",
       "      <td>{'latitude': '41.748400979', 'longitude': '-87...</td>\n",
       "    </tr>\n",
       "    <tr>\n",
       "      <th>1</th>\n",
       "      <td>JH480745</td>\n",
       "      <td>2024-10-24T00:00:00.000</td>\n",
       "      <td>050XX S HOMAN AVE</td>\n",
       "      <td>0560</td>\n",
       "      <td>ASSAULT</td>\n",
       "      <td>SIMPLE</td>\n",
       "      <td>SCHOOL - PUBLIC GROUNDS</td>\n",
       "      <td>False</td>\n",
       "      <td>False</td>\n",
       "      <td>08A</td>\n",
       "      <td>2024-10-31T15:41:20.000</td>\n",
       "      <td>{'latitude': '41.801659529', 'longitude': '-87...</td>\n",
       "    </tr>\n",
       "    <tr>\n",
       "      <th>2</th>\n",
       "      <td>JH481388</td>\n",
       "      <td>2024-10-24T00:00:00.000</td>\n",
       "      <td>019XX N ELSTON AVE</td>\n",
       "      <td>1152</td>\n",
       "      <td>DECEPTIVE PRACTICE</td>\n",
       "      <td>ILLEGAL USE CASH CARD</td>\n",
       "      <td>APARTMENT</td>\n",
       "      <td>False</td>\n",
       "      <td>False</td>\n",
       "      <td>11</td>\n",
       "      <td>2024-10-31T15:41:20.000</td>\n",
       "      <td>{'latitude': '41.916888176', 'longitude': '-87...</td>\n",
       "    </tr>\n",
       "    <tr>\n",
       "      <th>3</th>\n",
       "      <td>JH483847</td>\n",
       "      <td>2024-10-24T00:00:00.000</td>\n",
       "      <td>010XX N WOOD ST</td>\n",
       "      <td>1320</td>\n",
       "      <td>CRIMINAL DAMAGE</td>\n",
       "      <td>TO VEHICLE</td>\n",
       "      <td>STREET</td>\n",
       "      <td>False</td>\n",
       "      <td>False</td>\n",
       "      <td>14</td>\n",
       "      <td>2024-10-31T15:41:20.000</td>\n",
       "      <td>{'latitude': '41.900597722', 'longitude': '-87...</td>\n",
       "    </tr>\n",
       "    <tr>\n",
       "      <th>4</th>\n",
       "      <td>JH480637</td>\n",
       "      <td>2024-10-24T00:00:00.000</td>\n",
       "      <td>025XX N NARRAGANSETT AVE</td>\n",
       "      <td>0860</td>\n",
       "      <td>THEFT</td>\n",
       "      <td>RETAIL THEFT</td>\n",
       "      <td>SMALL RETAIL STORE</td>\n",
       "      <td>False</td>\n",
       "      <td>False</td>\n",
       "      <td>06</td>\n",
       "      <td>2024-10-31T15:41:20.000</td>\n",
       "      <td>{'latitude': '41.926287021', 'longitude': '-87...</td>\n",
       "    </tr>\n",
       "  </tbody>\n",
       "</table>\n",
       "</div>"
      ],
      "text/plain": [
       "  case_number                     date                     block  iucr  \\\n",
       "0    JH480792  2024-10-24T00:00:00.000     080XX S VINCENNES AVE  1310   \n",
       "1    JH480745  2024-10-24T00:00:00.000         050XX S HOMAN AVE  0560   \n",
       "2    JH481388  2024-10-24T00:00:00.000        019XX N ELSTON AVE  1152   \n",
       "3    JH483847  2024-10-24T00:00:00.000           010XX N WOOD ST  1320   \n",
       "4    JH480637  2024-10-24T00:00:00.000  025XX N NARRAGANSETT AVE  0860   \n",
       "\n",
       "         primary_type            description     location_description  arrest  \\\n",
       "0     CRIMINAL DAMAGE            TO PROPERTY                APARTMENT   False   \n",
       "1             ASSAULT                 SIMPLE  SCHOOL - PUBLIC GROUNDS   False   \n",
       "2  DECEPTIVE PRACTICE  ILLEGAL USE CASH CARD                APARTMENT   False   \n",
       "3     CRIMINAL DAMAGE             TO VEHICLE                   STREET   False   \n",
       "4               THEFT           RETAIL THEFT       SMALL RETAIL STORE   False   \n",
       "\n",
       "   domestic fbi_code               updated_on  \\\n",
       "0      True       14  2024-10-31T15:41:20.000   \n",
       "1     False      08A  2024-10-31T15:41:20.000   \n",
       "2     False       11  2024-10-31T15:41:20.000   \n",
       "3     False       14  2024-10-31T15:41:20.000   \n",
       "4     False       06  2024-10-31T15:41:20.000   \n",
       "\n",
       "                                            location  \n",
       "0  {'latitude': '41.748400979', 'longitude': '-87...  \n",
       "1  {'latitude': '41.801659529', 'longitude': '-87...  \n",
       "2  {'latitude': '41.916888176', 'longitude': '-87...  \n",
       "3  {'latitude': '41.900597722', 'longitude': '-87...  \n",
       "4  {'latitude': '41.926287021', 'longitude': '-87...  "
      ]
     },
     "execution_count": 42,
     "metadata": {},
     "output_type": "execute_result"
    }
   ],
   "source": [
    "crime_df[cat_col].head()"
   ]
  },
  {
   "cell_type": "markdown",
   "metadata": {},
   "source": [
    "- Frequency of Crime over the months\n",
    "- Frequency of Crime Type (primary_type)\n",
    "- Frequency of Location where Crime has occured\n",
    "- Most crime occured amongst the districts (Use geographic map to visualize)\n",
    "- Most crime occured amongst the beats (1 district = x beats) (Use geographic map to visualize)"
   ]
  }
 ],
 "metadata": {
  "kernelspec": {
   "display_name": "Python 3",
   "language": "python",
   "name": "python3"
  },
  "language_info": {
   "codemirror_mode": {
    "name": "ipython",
    "version": 3
   },
   "file_extension": ".py",
   "mimetype": "text/x-python",
   "name": "python",
   "nbconvert_exporter": "python",
   "pygments_lexer": "ipython3",
   "version": "3.10.15"
  }
 },
 "nbformat": 4,
 "nbformat_minor": 2
}
